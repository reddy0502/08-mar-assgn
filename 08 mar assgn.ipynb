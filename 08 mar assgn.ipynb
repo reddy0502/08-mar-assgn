{
 "cells": [
  {
   "cell_type": "markdown",
   "id": "00b046e4-0aae-413e-960f-b0ff7499c25a",
   "metadata": {},
   "source": [
    "1ans:\n",
    "    \n",
    " The Probability Density Function (PDF) is a function that describes the relative likelihood of a continuous random variable taking on a certain value or range of values. It is used to describe the probability distribution of a continuous random variable."
   ]
  },
  {
   "cell_type": "markdown",
   "id": "89e07b6d-e1f8-4dae-adf4-92ab087daf25",
   "metadata": {},
   "source": [
    "2ans:\n",
    "\n",
    "There are many different types of probability distributions, but here are some of the most commonly used ones:\n",
    "\n",
    "Normal distribution: also known as the Gaussian distribution, it is a continuous probability distribution that is commonly used in statistics due to its symmetry and its prevalence in nature.\n",
    "\n",
    "Binomial distribution: a discrete probability distribution that describes the number of successes in a fixed number of independent trials, each with the same probability of success.\n",
    "\n",
    "Poisson distribution: a discrete probability distribution that describes the number of events occurring in a fixed interval of time or space, when the events are rare and random.\n",
    "\n",
    "Exponential distribution: a continuous probability distribution that describes the time between events occurring in a Poisson process.\n",
    "\n",
    "Uniform distribution: a continuous probability distribution where all values within a given range have an equal likelihood of occurring."
   ]
  },
  {
   "cell_type": "code",
   "execution_count": null,
   "id": "222e0ded-c014-4c92-97f9-86f37e8c3d5c",
   "metadata": {},
   "outputs": [],
   "source": [
    "3ans:\n",
    "    \n",
    "    import math\n",
    "\n",
    "def normal_pdf(x, mean, std_dev):\n",
    "   \n",
    "    variance = std_dev ** 2\n",
    "    denominator = math.sqrt(2 * math.pi * variance)\n",
    "    numerator = math.exp(-((x - mean) ** 2) / (2 * variance))\n",
    "    return numerator / denominator\n"
   ]
  },
  {
   "cell_type": "markdown",
   "id": "45c6e0d9-7199-427a-916f-c18ebd33e3b1",
   "metadata": {},
   "source": [
    "4ans:\n",
    "\n",
    "The properties of a Binomial distribution are:\n",
    "\n",
    "1)The outcome of each trial is binary, meaning it can only result in one of two possible outcomes (success or failure).\n",
    "\n",
    "2)The trials are independent, meaning the outcome of one trial does not affect the outcome of any other trial.\n",
    "\n",
    "3)The probability of success, denoted by p, remains constant for all trials.\n",
    "\n",
    "4)The number of trials, denoted by n, is fixed in advance.\n",
    "\n",
    "Here are two examples of events where the Binomial distribution can be applied:\n",
    "\n",
    "A manufacturer of electronic devices wants to know the probability of a batch of 1000 devices having exactly 950 working devices. If the probability of a device working is 0.95, we can model this as a Binomial distribution with n = 1000 and p = 0.95.\n",
    "\n",
    "A political pollster wants to know the probability of a candidate winning an election if they have a 60% approval rating among likely voters. If there are 1000 likely voters, we can model the number of voters who support the candidate as a Binomial distribution with n = 1000 and p = 0.6.\n",
    "\n",
    "    "
   ]
  },
  {
   "cell_type": "code",
   "execution_count": null,
   "id": "976f247b-80d5-42fd-a70c-d322834610e4",
   "metadata": {},
   "outputs": [],
   "source": [
    "5ans:\n",
    "\n",
    "import numpy as np\n",
    "import matplotlib.pyplot as plt\n",
    "\n",
    "\n",
    "n = 1000  \n",
    "p = 0.4 \n",
    "sample = np.random.binomial(n, p, size=1000)\n",
    "\n",
    "\n",
    "plt.hist(sample, bins=20)\n",
    "plt.xlabel('Number of successes')\n",
    "plt.ylabel('Frequency')\n",
    "plt.title('Histogram of Binomial Distribution (n=1000, p=0.4)')\n",
    "plt.show()\n",
    "\n"
   ]
  },
  {
   "cell_type": "code",
   "execution_count": null,
   "id": "169afd8a-bbcc-4c3c-bb32-f89960a09803",
   "metadata": {},
   "outputs": [],
   "source": [
    "6ans:\n",
    "    import math\n",
    "\n",
    "def poisson_cdf(k, mean):\n",
    "   \n",
    "    cdf = 0\n",
    "    for i in range(k+1):\n",
    "        cdf += ((mean ** i) * math.exp(-mean)) / math.factorial(i)\n",
    "    return cdf\n"
   ]
  },
  {
   "cell_type": "markdown",
   "id": "606aee09-62e0-4e5f-84fe-776675399422",
   "metadata": {},
   "source": [
    "7ans:\n",
    "    \n",
    "Binomial and Poisson distributions are both probability distributions that are commonly used to model the number of occurrences of a specific event. However, they differ in several ways.\n",
    "\n",
    "Nature of the Events: Binomial distribution models the number of successes in a fixed number of trials, where each trial can result in one of two possible outcomes (success or failure). Poisson distribution, on the other hand, models the number of occurrences of an event in a fixed interval of time or space, where the events are rare and independent of each other.\n",
    "\n",
    "Probability of Success: In Binomial distribution, the probability of success (p) remains constant for all trials. In Poisson distribution, the probability of an event occurring in a small interval of time or space is proportional to the length or size of the interval.\n",
    "\n",
    "Number of Trials or Occurrences: In Binomial distribution, the number of trials or occurrences (n) is fixed and known in advance. In Poisson distribution, there is no fixed number of occurrences, and the distribution can extend indefinitely.\n",
    "\n",
    "Shape of the Distribution: Binomial distribution is discrete and symmetrical when p=0.5, and becomes more skewed as p deviates from 0.5. Poisson distribution is also discrete and typically skewed to the righ"
   ]
  },
  {
   "cell_type": "code",
   "execution_count": null,
   "id": "99a7d6cd-c7f0-40ea-a541-8b1d83930565",
   "metadata": {},
   "outputs": [],
   "source": [
    "8ans:\n",
    "\n",
    "import numpy as np\n",
    "\n",
    "sample = np.random.poisson(5, size=1000)\n",
    "\n",
    "sample_mean = np.mean(sample)\n",
    "sample_var = np.var(sample)\n",
    "\n",
    "print(\"Sample Mean:\", sample_mean)\n",
    "print(\"Sample Variance:\", sample_var)\n"
   ]
  },
  {
   "cell_type": "code",
   "execution_count": null,
   "id": "c9dda029-288c-4319-b155-6950a386dad2",
   "metadata": {},
   "outputs": [],
   "source": [
    "9ans:\n",
    "    "
   ]
  }
 ],
 "metadata": {
  "kernelspec": {
   "display_name": "Python 3 (ipykernel)",
   "language": "python",
   "name": "python3"
  },
  "language_info": {
   "codemirror_mode": {
    "name": "ipython",
    "version": 3
   },
   "file_extension": ".py",
   "mimetype": "text/x-python",
   "name": "python",
   "nbconvert_exporter": "python",
   "pygments_lexer": "ipython3",
   "version": "3.10.8"
  }
 },
 "nbformat": 4,
 "nbformat_minor": 5
}
